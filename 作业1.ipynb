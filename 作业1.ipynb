{
 "cells": [
  {
   "cell_type": "code",
   "execution_count": 53,
   "id": "0b51ace2-4b93-44ff-9557-e970f16a7d5b",
   "metadata": {},
   "outputs": [
    {
     "name": "stdout",
     "output_type": "stream",
     "text": [
      "-30\n"
     ]
    }
   ],
   "source": [
    "#第1题\n",
    "def Print_values(a,b,c):\n",
    "    if a>b:\n",
    "        if b>c:\n",
    "            print(a+b-10*c)\n",
    "        else:\n",
    "            if a>c:\n",
    "                print(a+c-10*b)\n",
    "            else:\n",
    "                print(c+a-10*b)\n",
    "    else:\n",
    "        if b>c:\n",
    "            #这块题目没有说输出什么，我自己按照大小顺序加的\n",
    "            if c>a:\n",
    "                print(b+c-10*a)\n",
    "            else:\n",
    "                print(b+a-10*c)\n",
    "        else:\n",
    "            print(c+b-10*a)\n",
    "        \n",
    "        \n",
    "Print_values(10,20,50)        \n"
   ]
  },
  {
   "cell_type": "code",
   "execution_count": 103,
   "id": "da80aacd-f508-43a7-87f1-bdae4b6d9038",
   "metadata": {},
   "outputs": [
    {
     "data": {
      "text/plain": [
       "35"
      ]
     },
     "execution_count": 103,
     "metadata": {},
     "output_type": "execute_result"
    }
   ],
   "source": [
    "#第2题\n",
    "import math\n",
    "#建立一个输出值函数\n",
    "def continueceil(a):\n",
    "    if a!=1:\n",
    "        return  continueceil(math.ceil(a/3))+2*a\n",
    "    else:\n",
    "        return 1\n",
    "continueceil(11)\n",
    "\n"
   ]
  },
  {
   "cell_type": "code",
   "execution_count": 105,
   "id": "998bae30-0f22-4ca9-bab3-e94d6cac2cc2",
   "metadata": {},
   "outputs": [
    {
     "name": "stdout",
     "output_type": "stream",
     "text": [
      "[1, 5, 7, 13, 15, 17, 99, 171, 265, 197]\n"
     ]
    }
   ],
   "source": [
    "#第2题，从网上了解ceil函数和log函数\n",
    "import math\n",
    "#建立一个输出值函数\n",
    "def continueceil(a):\n",
    "    if a!=1:\n",
    "        b=math.ceil(math.log(a,3))                   #确定需要除以3的次数，取整\n",
    "        c = 2*a                                      #第一个尾数2x\n",
    "        d=a\n",
    "        for i in range(b-1):                         #得到后面的尾数，循环b-1次\n",
    "            d = math.ceil(d/3)\n",
    "            c=c+2*d                                  #加上\n",
    "        return c+1                                   #最后加上f（1）     \n",
    "    else:\n",
    "        return 1\n",
    "list1=[1,2,3,4,5,6,32,56,87,65]                      #随便创建一个list\n",
    "list2=[]                                             #输出值list\n",
    "for i in list1:\n",
    "    list2.append( continueceil(i))\n",
    "print(list2)                                        #输出"
   ]
  },
  {
   "cell_type": "code",
   "execution_count": null,
   "id": "d78a7b2c-1e26-49c6-b24a-f502cf6b8326",
   "metadata": {},
   "outputs": [],
   "source": [
    "#第3题\n"
   ]
  },
  {
   "cell_type": "code",
   "execution_count": 25,
   "id": "8f71ddf0-b43c-4d6b-bc60-2a7df89d7741",
   "metadata": {},
   "outputs": [
    {
     "name": "stdout",
     "output_type": "stream",
     "text": [
      "[7.0, 19.5, 39.666666666666664, 112.5, 210.8, 325.5, 417.2857142857143, 1051.875, 2214.3333333333335]\n"
     ]
    },
    {
     "data": {
      "image/png": "[encoded data removed]",
      "text/plain": [
       "<Figure size 640x480 with 1 Axes>"
      ]
     },
     "metadata": {},
     "output_type": "display_data"
    }
   ],
   "source": [
    "#第4题\n",
    "#4.1\n",
    "import random\n",
    "def Random_integer(N):\n",
    "    list1=[]               #创建空list\n",
    "    for i in range(N):\n",
    "        list1.append(random.randint(0,10))\n",
    "    return list1\n",
    "#4.2\n",
    "import itertools\n",
    "def Sum_averages(list_a):\n",
    "    N = len(list_a)                #长度为N的list_a\n",
    "    sum_mean = 0                       #所有子集的均值的和\n",
    "    for i in range(1,N+1):           \n",
    "        combins = [c for c in itertools.combinations(list_a,i)]       #从list——a里组合抽样，并形成一个组合list。组合的方式从网上查询的\n",
    "      #  print(combins)                                               #打印出具体的组合\n",
    "        mean_i_c = 0                                                         #i个元素的子集 的和\n",
    "        for x in range(len(combins)):\n",
    "            for y in range(i):\n",
    "                mean_i_c = mean_i_c+combins[x][y]\n",
    "        mean_i = mean_i_c/i                                                 #i个元素的子集 的均值   \n",
    "        sum_mean =sum_mean+mean_i         \n",
    "    return sum_mean\n",
    "#4.3\n",
    "import matplotlib.pyplot as plt\n",
    "Total_sum_averages= []\n",
    "for N in range(1,10):\n",
    "    list_a = Random_integer(N)\n",
    "    mean_a = Sum_averages(list_a)\n",
    "    Total_sum_averages.append(mean_a)\n",
    "    #print(list_a)\n",
    "    #print(mean_a)\n",
    "print(Total_sum_averages)\n",
    "#plot画图方法从网上查找\n",
    "# 创建 x 轴数据\n",
    "x_values = range(len(Total_sum_averages))\n",
    "\n",
    "# 绘制柱状图\n",
    "plt.bar(x_values, Total_sum_averages)\n",
    "plt.title('Bar Chart of My List')\n",
    "plt.xlabel('Index')\n",
    "plt.ylabel('Value')\n",
    "plt.xticks(x_values)  # 设置 x 轴刻度\n",
    "plt.show()"
   ]
  },
  {
   "cell_type": "code",
   "execution_count": null,
   "id": "9c1fd4df-0bc4-4fc9-845b-1374444689e5",
   "metadata": {},
   "outputs": [],
   "source": [
    "#第5题\n",
    "#5.1,\n",
    "import numpy as np\n",
    "def make_matrix(N,M):\n",
    "    rows = N\n",
    "    cols = M\n",
    "    matrix = np.zeros((rows, cols))  # 先生成一个零矩阵,矩阵生成方法从网上查询\n",
    "    # 填充特定的值\n",
    "    for i in range(rows):\n",
    "        for j in range(cols):\n",
    "            matrix[i][j] =np.random.choice([0, 1])             #0或1的随机数生成方法从网上查询\n",
    "    matrix[0][0]=1\n",
    "    matrix[N-1][M-1]=1\n",
    "    #print(matrix)\n",
    "    return matrix\n",
    "#5.2\n",
    "#（1）先判断总共有多少条路可以走（不考虑障碍）\n",
    "#向右走代表1，向下走代表2，每个list代表一条path\n",
    "#N行M列的矩阵一共有M-1次1，N-1次2.\n",
    "import itertools\n",
    "def paths(N,M):\n",
    "    path_list = [1]*(M-1)+[2]*(N-1)\n",
    "    Total_path_0=set(itertools.permutations(path_list))         #M+N-2个数，N-1个1的排列数\n",
    "    Total_path = list(Total_path_0) \n",
    "    c = len(Total_path)\n",
    "    #print(Total_path)\n",
    "    #print(c)\n",
    "    return Total_path\n",
    "#(2)如果这条path可以通过，则这条路径上的值之和=N+M-2(不包括起点)，如果小于则不通过。\n",
    "def judge_path(m,p,N,M):         #m代表矩阵，p代表这条path的list,\n",
    "    r=0                          #起始的坐标\n",
    "    c=0\n",
    "    sum = 0                      #和\n",
    "    for i in p:                  \n",
    "        if i == 1:                 #i=1,向右走\n",
    "            c=c+1\n",
    "            sum=sum+m[r][c]\n",
    "        else:                     #i = 2，向下走\n",
    "            r=r+1\n",
    "            sum=sum+m[r][c]\n",
    "    if sum == r+c:               #判断这条路径的点的和（不包括起点）\n",
    "        #print(p)\n",
    "        return True\n",
    "    else:\n",
    "        return False\n",
    "    \n",
    "def Count_path(N,M):\n",
    "    A = make_matrix(N,M)\n",
    "    n_path = paths(N,M)\n",
    "    n = 0\n",
    "    for i in n_path:\n",
    "        if judge_path(A,i,N,M)==True:\n",
    "            n = n+1\n",
    "        else:\n",
    "            n=n\n",
    "    #print(n)\n",
    "    return n    \n",
    "\n",
    "#5.3\n",
    "count = []\n",
    "for i in range(1000):\n",
    "    count.append(Count_path(10,8))\n",
    "print( count)\n",
    "print(sum(count)/1000) \n"
   ]
  },
  {
   "cell_type": "code",
   "execution_count": null,
   "id": "dcee8c8e-2cac-45b0-9ace-39f205f5a923",
   "metadata": {},
   "outputs": [],
   "source": [
    "\n"
   ]
  }
 ],
 "metadata": {
  "kernelspec": {
   "display_name": "Python 3 (ipykernel)",
   "language": "python",
   "name": "python3"
  },
  "language_info": {
   "codemirror_mode": {
    "name": "ipython",
    "version": 3
   },
   "file_extension": ".py",
   "mimetype": "text/x-python",
   "name": "python",
   "nbconvert_exporter": "python",
   "pygments_lexer": "ipython3",
   "version": "3.12.4"
  }
 },
 "nbformat": 4,
 "nbformat_minor": 5
}
