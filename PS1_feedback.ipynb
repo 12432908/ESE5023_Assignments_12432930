{
 "cells": [
  {
   "cell_type": "markdown",
   "id": "ddcd1b57-8631-433c-aba7-eb3fa34e8529",
   "metadata": {},
   "source": [
    "##### 这个单元格给助教，请忽略!\n",
    "\n",
    "### Score: 80\n",
    "\n",
    "### Comment:\n",
    "Q1.[5.5]Good job!\n",
    "\n",
    "Q2.[10]代码可以再优化一下\n",
    "\n",
    "Q3.[0]可以上网搜一下，尽量不要空着\n",
    "\n",
    "Q4.[5+16.5+5]Good job!\n",
    "\n",
    "Q5.[5.5+27.5+5]Good job!\n",
    "\n",
    "请实现每个 function 内容，确保最终提交的notebook是可以运行的。\n",
    "\n",
    "每一题除了必须要报告的 输出/图表，可以添加解释（中文即可）。此外可以自定义其他 function / 变量，自由添加单元格，但请确保题目中给出的 function （如第一题的 Print_values）可以正常调用。"
   ]
  },
  {
   "cell_type": "code",
   "execution_count": 1,
   "id": "0b51ace2-4b93-44ff-9557-e970f16a7d5b",
   "metadata": {},
   "outputs": [
    {
     "name": "stdout",
     "output_type": "stream",
     "text": [
      "5\n"
     ]
    }
   ],
   "source": [
    "#第1题\n",
    "def Print_values(a,b,c):\n",
    "    if a>b:\n",
    "        if b>c:\n",
    "            print(a+b-10*c)\n",
    "        else:\n",
    "            if a>c:\n",
    "                print(a+c-10*b)\n",
    "            else:\n",
    "                print(c+a-10*b)\n",
    "    else:\n",
    "        if b<=c:\n",
    "            print(c+b-10*a)\n",
    "            \n",
    "\n",
    "        \n",
    "        \n",
    "Print_values(10,5,1)        \n"
   ]
  },
  {
   "cell_type": "code",
   "execution_count": 7,
   "id": "998bae30-0f22-4ca9-bab3-e94d6cac2cc2",
   "metadata": {},
   "outputs": [
    {
     "name": "stdout",
     "output_type": "stream",
     "text": [
      "[1, 5, 7, 17, 21, 25, 257, 449, 871, 521]\n"
     ]
    }
   ],
   "source": [
    "#第2题，从网上了解ceil函数和log函数\n",
    "import math\n",
    "#建立一个输出值函数\n",
    "def continueceil(a):\n",
    "    if a!=1:\n",
    "        b=math.ceil(math.log(a,3))                   #确定需要除以3的次数，取整\n",
    "        c = 2*a                                      #第一个尾数2x\n",
    "        d=a\n",
    "        for i in range(b-1):                         #得到后面的尾数，循环b-1次\n",
    "            d = math.ceil(d/3)\n",
    "            c=c+2*a                                  #加上\n",
    "        return c+1                                   #最后加上f（1）     \n",
    "    else:\n",
    "        return 1\n",
    "list1=[1,2,3,4,5,6,32,56,87,65]                      #随便创建一个list\n",
    "list2=[]                                             #输出值list\n",
    "for i in list1:\n",
    "    list2.append( continueceil(i))\n",
    "print(list2)                                        #输出"
   ]
  },
  {
   "cell_type": "code",
   "execution_count": null,
   "id": "d682ed9c-a0a8-4969-a486-84465005ef6b",
   "metadata": {},
   "outputs": [],
   "source": [
    "#第3题，不会做。没思路\n",
    "\n",
    "\n",
    "\n",
    "\n",
    "\n",
    "\n",
    "\n",
    "\n"
   ]
  },
  {
   "cell_type": "code",
   "execution_count": 13,
   "id": "13d01711-10f8-4894-84d5-c8735c7762cf",
   "metadata": {},
   "outputs": [
    {
     "name": "stdout",
     "output_type": "stream",
     "text": [
      "[3. 1. 2. 2. 9.]\n"
     ]
    }
   ],
   "source": [
    "#第4题\n",
    "#4.1\n",
    "import random\n",
    "import numpy as np\n",
    "def Random_integer(N):\n",
    "    array1=np.zeros(N)             #创建N个元素的一维array\n",
    "    for i in range(N):\n",
    "        array1[i]=np.random.randint(0,10)\n",
    "    return array1\n",
    "\n",
    "array_2=Random_integer(5)\n",
    "print(array_2)"
   ]
  },
  {
   "cell_type": "code",
   "execution_count": 14,
   "id": "78c4ce78-33e3-4902-a6b0-28572a7b735f",
   "metadata": {},
   "outputs": [
    {
     "name": "stdout",
     "output_type": "stream",
     "text": [
      "142.6\n"
     ]
    }
   ],
   "source": [
    "#4.2\n",
    "import itertools\n",
    "def Sum_averages(array_a):\n",
    "    N = len(array_a)                #长度为N的array_a\n",
    "    sum_mean = 0                       #所有子集的均值的和\n",
    "    for i in range(1,N+1):           \n",
    "        combins = [c for c in itertools.combinations(array_a,i)]       #从array——a里组合抽样，并形成一个组合array。组合的方式从网上查询的\n",
    "        #print(combins)                                               #打印出具体的组合\n",
    "        mean_i_c = 0                                                         #i个元素的子集 的和\n",
    "        for x in range(len(combins)):\n",
    "            for y in range(i):\n",
    "                mean_i_c = mean_i_c+combins[x][y]\n",
    "        mean_i = mean_i_c/i                                                 #i个元素的子集 的均值   \n",
    "        sum_mean =sum_mean+mean_i         \n",
    "    return sum_mean\n",
    "arr = [1, 2, 6, 6, 8]\n",
    "print(Sum_averages(arr))"
   ]
  },
  {
   "cell_type": "code",
   "execution_count": 16,
   "id": "8f71ddf0-b43c-4d6b-bc60-2a7df89d7741",
   "metadata": {},
   "outputs": [
    {
     "name": "stdout",
     "output_type": "stream",
     "text": [
      "[1.0, 16.5, 32.666666666666664, 63.75, 198.4, 294.0, 635.0, 1402.5, 1760.1111111111109, 3989.7000000000003, 5582.727272727273, 16721.25, 37804.61538461538, 65532.0, 128883.53333333334, 274427.8125, 616804.7058823529, 1004881.5, 2235118.263157895, 4823445.0, 8488468.333333334, 20971515.0, 33189705.95652174, 51030695.625]\n"
     ]
    },
    {
     "data": {
      "image/png": "[encoded data removed]",
      "text/plain": [
       "<Figure size 640x480 with 1 Axes>"
      ]
     },
     "metadata": {},
     "output_type": "display_data"
    }
   ],
   "source": [
    "#4.3\n",
    "import matplotlib.pyplot as plt\n",
    "Total_sum_averages= []\n",
    "# NOTE: 注意是生成N从1至100的图，所以应该是for N in range(1, 101)\n",
    "for N in range(1,25):\n",
    "    array_a = Random_integer(N)\n",
    "    mean_a = Sum_averages(array_a)\n",
    "    Total_sum_averages.append(mean_a)\n",
    "    #print(array_a)\n",
    "    #print(mean_a)\n",
    "print(Total_sum_averages)\n",
    "#plot画图方法从网上查找\n",
    "# 创建 x 轴数据\n",
    "x_values = range(1,len(Total_sum_averages)+1)\n",
    "\n",
    "# 绘制柱状图\n",
    "plt.bar(x_values, Total_sum_averages)\n",
    "plt.title('Bar Chart of My List')\n",
    "plt.xlabel('Index')\n",
    "plt.ylabel('Value')\n",
    "plt.xticks(x_values)  # 设置 x 轴刻度\n",
    "plt.show()"
   ]
  },
  {
   "cell_type": "code",
   "execution_count": 1,
   "id": "9aa2f46a-2aca-49e3-bba9-d3ccecc5e355",
   "metadata": {},
   "outputs": [
    {
     "name": "stdout",
     "output_type": "stream",
     "text": [
      "[[1. 0. 1. 0.]\n",
      " [1. 1. 1. 1.]\n",
      " [1. 1. 0. 1.]]\n"
     ]
    }
   ],
   "source": [
    "#第5题\n",
    "#5.1,\n",
    "import numpy as np\n",
    "def make_matrix(N,M):\n",
    "    rows = N\n",
    "    cols = M\n",
    "    matrix = np.zeros((rows, cols))  # 先生成一个零矩阵,矩阵生成方法从网上查询\n",
    "    # 填充特定的值\n",
    "    for i in range(rows):\n",
    "        for j in range(cols):\n",
    "            matrix[i][j] =np.random.choice([0, 1])             #0或1的随机数生成方法从网上查询\n",
    "    matrix[0][0]=1\n",
    "    matrix[N-1][M-1]=1\n",
    "    #print(matrix)\n",
    "    return matrix\n",
    "#举个例子，生成一个3行4列的矩阵\n",
    "ma1=make_matrix(3,4)\n",
    "print(ma1)"
   ]
  },
  {
   "cell_type": "code",
   "execution_count": 2,
   "id": "9c1fd4df-0bc4-4fc9-845b-1374444689e5",
   "metadata": {},
   "outputs": [
    {
     "name": "stdout",
     "output_type": "stream",
     "text": [
      "[[1. 1. 0. 1.]\n",
      " [0. 0. 0. 1.]\n",
      " [1. 1. 1. 0.]\n",
      " [0. 0. 0. 1.]]\n",
      "0\n"
     ]
    }
   ],
   "source": [
    "#5.2\n",
    "#（1）先判断总共有多少条路可以走（不考虑障碍）\n",
    "#向右走代表1，向下走代表2，每个list代表一条path\n",
    "#N行M列的矩阵一共有M-1次1，N-1次2.\n",
    "import itertools\n",
    "def paths(N,M):\n",
    "    path_list = [1]*(M-1)+[2]*(N-1)\n",
    "    Total_path_0=set(itertools.permutations(path_list))         #M+N-2个数，N-1个1的排列数\n",
    "    Total_path = list(Total_path_0) \n",
    "    c = len(Total_path)\n",
    "    #print(Total_path)\n",
    "    #print(c)\n",
    "    return Total_path\n",
    "#(2)如果这条path可以通过，则这条路径上的值之和=N+M-2(不包括起点)，如果小于则不通过。\n",
    "def judge_path(m,p,N,M):         #m代表矩阵，p代表这条path的list,\n",
    "    r=0  # raw                         #起始的坐标\n",
    "    c=0  # column\n",
    "    sum = 0                      #和\n",
    "    for i in p:                  \n",
    "        if i == 1:                 #i=1,向右走\n",
    "            c=c+1\n",
    "            sum=sum+m[r][c]\n",
    "        else:                     #i = 2，向下走\n",
    "            r=r+1\n",
    "            sum=sum+m[r][c]\n",
    "    if sum == r+c:               #判断这条路径的点的和（不包括起点）\n",
    "        #print(p)\n",
    "        return True\n",
    "    else:\n",
    "        return False\n",
    "    \n",
    "def Count_path(N,M):\n",
    "    A = make_matrix(N,M)\n",
    "    print(A)\n",
    "    n_path = paths(N,M)\n",
    "    n = 0\n",
    "    for i in n_path:\n",
    "        if judge_path(A,i,N,M)==True:\n",
    "            n = n+1\n",
    "        else:\n",
    "            n=n\n",
    "    #print(n)\n",
    "    return n\n",
    "\n",
    "print(Count_path(4, 4))"
   ]
  },
  {
   "cell_type": "code",
   "execution_count": null,
   "id": "f9048772-9250-4824-a446-33b54bbee349",
   "metadata": {},
   "outputs": [],
   "source": [
    "#5.3\n",
    "#(10,8)这个似乎要运行特别久，我一直没有运行出结果，但是可以把矩阵放小一点。比如row=5，col=5.\n",
    "count = []\n",
    "for i in range(20):\n",
    "    count.append(Count_path(10,8))\n",
    "# print(count)\n",
    "print(sum(count)/1000) "
   ]
  },
  {
   "cell_type": "code",
   "execution_count": null,
   "id": "c749925b-2d7c-4d6b-a3d9-1ac6a9ce992f",
   "metadata": {},
   "outputs": [],
   "source": []
  }
 ],
 "metadata": {
  "kernelspec": {
   "display_name": "Python 3 (ipykernel)",
   "language": "python",
   "name": "python3"
  },
  "language_info": {
   "codemirror_mode": {
    "name": "ipython",
    "version": 3
   },
   "file_extension": ".py",
   "mimetype": "text/x-python",
   "name": "python",
   "nbconvert_exporter": "python",
   "pygments_lexer": "ipython3",
   "version": "3.12.7"
  }
 },
 "nbformat": 4,
 "nbformat_minor": 5
}
